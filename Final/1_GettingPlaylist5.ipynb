{
 "cells": [
  {
   "cell_type": "markdown",
   "metadata": {},
   "source": [
    "## Collecting Data\n",
    "\n",
    "To collect my Spotify Data I used this source: https://github.com/plamere/spotipy/tree/master/examples"
   ]
  },
  {
   "cell_type": "code",
   "execution_count": 1,
   "metadata": {},
   "outputs": [],
   "source": [
    "import spotipy\n",
    "from spotipy.oauth2 import SpotifyClientCredentials\n",
    "import pandas as pd\n",
    "import time \n",
    "\n",
    "\n",
    "client_id = '3d5be77a0a8b4b34a19fe1c509719169'\n",
    "client_secret = 'b5f6d556e9a74f48a88ec4e4a40bfc5e'\n",
    "\n",
    "client_credentials_manager = SpotifyClientCredentials(client_id, client_secret)\n",
    "sp = spotipy.Spotify(client_credentials_manager=client_credentials_manager)\n"
   ]
  },
  {
   "cell_type": "code",
   "execution_count": 2,
   "metadata": {},
   "outputs": [],
   "source": [
    "\n",
    "def getTrackIDs(user, playlist_id):\n",
    "    ids = []\n",
    "    playlist = sp.user_playlist(user, playlist_id)\n",
    "\n",
    "    for item in playlist['tracks']['items']:\n",
    "        track = item['track']\n",
    "        ids.append(track['id'])\n",
    "        \n",
    "    \n",
    "    return ids\n",
    "\n",
    "\n",
    "\n",
    "ids = getTrackIDs('melll', '7rdJiw7WQVYHbVLZVt682k')\n",
    "\n",
    "\n",
    "def getTrackFeatures(id):\n",
    "  meta = sp.track(id)\n",
    "  features = sp.audio_features(id)\n",
    "\n",
    "  # meta\n",
    "  name = meta['name']\n",
    "  album = meta['album']['name']\n",
    "  artist = meta['album']['artists'][0]['name']\n",
    "  length = meta['duration_ms']\n",
    "  popularity = meta['popularity']\n",
    " \n",
    "  # features\n",
    "  acousticness = features[0]['acousticness']\n",
    "  danceability = features[0]['danceability']\n",
    "  energy = features[0]['energy']\n",
    "  instrumentalness = features[0]['instrumentalness']\n",
    "  mode = features[0]['mode']\n",
    "  liveness = features[0]['liveness']\n",
    "  loudness = features[0]['loudness']\n",
    "  speechiness = features[0]['speechiness']\n",
    "  tempo = features[0]['tempo']\n",
    "  time_signature = features[0]['time_signature']\n",
    "  valence = features[0]['valence']\n",
    "\n",
    "  track = [name, album, artist, length, popularity, danceability, acousticness, energy, instrumentalness, mode, liveness, loudness, speechiness, tempo, time_signature, valence]\n",
    "  return track\n",
    "\n",
    "\n",
    "\n",
    "# loop over track ids \n",
    "tracks = []\n",
    "for i in range(len(ids)):\n",
    "  time.sleep(.5)\n",
    "  track = getTrackFeatures(ids[i])\n",
    "  tracks.append(track)\n",
    "\n",
    "# create dataset\n",
    "tracks_df = pd.DataFrame(tracks, columns = ['trackname', 'album', 'artist', 'length', 'popularity', 'danceability', 'acousticness', 'energy', 'instrumentalness', ' mode', 'liveness', 'loudness', 'speechiness', 'tempo', 'time_signature', 'valence'])"
   ]
  },
  {
   "cell_type": "code",
   "execution_count": 3,
   "metadata": {},
   "outputs": [
    {
     "name": "stdout",
     "output_type": "stream",
     "text": [
      "<class 'pandas.core.frame.DataFrame'>\n",
      "RangeIndex: 28 entries, 0 to 27\n",
      "Data columns (total 16 columns):\n",
      " #   Column            Non-Null Count  Dtype  \n",
      "---  ------            --------------  -----  \n",
      " 0   trackname         28 non-null     object \n",
      " 1   album             28 non-null     object \n",
      " 2   artist            28 non-null     object \n",
      " 3   length            28 non-null     int64  \n",
      " 4   popularity        28 non-null     int64  \n",
      " 5   danceability      28 non-null     float64\n",
      " 6   acousticness      28 non-null     float64\n",
      " 7   energy            28 non-null     float64\n",
      " 8   instrumentalness  28 non-null     float64\n",
      " 9    mode             28 non-null     int64  \n",
      " 10  liveness          28 non-null     float64\n",
      " 11  loudness          28 non-null     float64\n",
      " 12  speechiness       28 non-null     float64\n",
      " 13  tempo             28 non-null     float64\n",
      " 14  time_signature    28 non-null     int64  \n",
      " 15  valence           28 non-null     float64\n",
      "dtypes: float64(9), int64(4), object(3)\n",
      "memory usage: 3.6+ KB\n"
     ]
    }
   ],
   "source": [
    "tracks_df.info()"
   ]
  },
  {
   "cell_type": "code",
   "execution_count": 4,
   "metadata": {},
   "outputs": [
    {
     "name": "stdout",
     "output_type": "stream",
     "text": [
      "artist genres: ['german dance', 'german pop', 'partyschlager', 'schlager']\n",
      "['german dance', 'german pop', 'partyschlager', 'schlager']\n",
      "Stereoact\n"
     ]
    }
   ],
   "source": [
    "dct = sp.playlist(\"7rdJiw7WQVYHbVLZVt682k\", fields=None, market=None, additional_types=('track', ))\n",
    "result = sp.search(dct['tracks']['items'][0]['track']['artists'][0]['name'])\n",
    "track = result['tracks']['items'][0]\n",
    "\n",
    "artist = sp.artist(track[\"artists\"][0][\"external_urls\"][\"spotify\"])\n",
    "print(\"artist genres:\", artist[\"genres\"])\n",
    "\n",
    "genres = artist[\"genres\"]\n",
    "artist = artist['name']\n",
    "print(genres)\n",
    "print (artist)"
   ]
  },
  {
   "cell_type": "code",
   "execution_count": 5,
   "metadata": {},
   "outputs": [],
   "source": [
    "from tqdm import tqdm\n",
    "import pandas as pd"
   ]
  },
  {
   "cell_type": "code",
   "execution_count": 6,
   "metadata": {},
   "outputs": [
    {
     "name": "stderr",
     "output_type": "stream",
     "text": [
      "100%|██████████████████████████████████████████████████████████████████████████████████| 28/28 [00:09<00:00,  2.84it/s]\n"
     ]
    }
   ],
   "source": [
    "rows = []\n",
    "for t in tqdm(range(len(tracks_df))):\n",
    "    track_row = []\n",
    "    \n",
    "    track = dct['tracks']['items'][t]['track']['name']\n",
    "    artist = dct['tracks']['items'][t]['track']['artists'][0]['name']\n",
    "    \n",
    "    result = sp.search(dct['tracks']['items'][t]['track']['artists'][0]['name'])\n",
    "    tr = result['tracks']['items'][0]\n",
    "    art = sp.artist(tr[\"artists\"][0][\"external_urls\"][\"spotify\"])\n",
    "    \n",
    "    genre = art[\"genres\"]\n",
    "    try:\n",
    "        track_row = [artist, genre[0]]\n",
    "    except:\n",
    "        track_row = [artist]\n",
    "    rows.append(track_row)\n",
    "    \n",
    "    \n",
    "genre = pd.DataFrame.from_dict(rows)"
   ]
  },
  {
   "cell_type": "code",
   "execution_count": 7,
   "metadata": {},
   "outputs": [],
   "source": [
    "genre.columns = ['artist', 'genres']"
   ]
  },
  {
   "cell_type": "code",
   "execution_count": 8,
   "metadata": {},
   "outputs": [
    {
     "name": "stdout",
     "output_type": "stream",
     "text": [
      "<class 'pandas.core.frame.DataFrame'>\n",
      "RangeIndex: 28 entries, 0 to 27\n",
      "Data columns (total 2 columns):\n",
      " #   Column  Non-Null Count  Dtype \n",
      "---  ------  --------------  ----- \n",
      " 0   artist  28 non-null     object\n",
      " 1   genres  26 non-null     object\n",
      "dtypes: object(2)\n",
      "memory usage: 576.0+ bytes\n"
     ]
    }
   ],
   "source": [
    "genre.info()"
   ]
  },
  {
   "cell_type": "code",
   "execution_count": 9,
   "metadata": {},
   "outputs": [
    {
     "data": {
      "text/html": [
       "<div>\n",
       "<style scoped>\n",
       "    .dataframe tbody tr th:only-of-type {\n",
       "        vertical-align: middle;\n",
       "    }\n",
       "\n",
       "    .dataframe tbody tr th {\n",
       "        vertical-align: top;\n",
       "    }\n",
       "\n",
       "    .dataframe thead th {\n",
       "        text-align: right;\n",
       "    }\n",
       "</style>\n",
       "<table border=\"1\" class=\"dataframe\">\n",
       "  <thead>\n",
       "    <tr style=\"text-align: right;\">\n",
       "      <th></th>\n",
       "      <th>trackname</th>\n",
       "      <th>album</th>\n",
       "      <th>artist</th>\n",
       "      <th>length</th>\n",
       "      <th>popularity</th>\n",
       "      <th>danceability</th>\n",
       "      <th>acousticness</th>\n",
       "      <th>energy</th>\n",
       "      <th>instrumentalness</th>\n",
       "      <th>mode</th>\n",
       "      <th>liveness</th>\n",
       "      <th>loudness</th>\n",
       "      <th>speechiness</th>\n",
       "      <th>tempo</th>\n",
       "      <th>time_signature</th>\n",
       "      <th>valence</th>\n",
       "      <th>genres</th>\n",
       "    </tr>\n",
       "  </thead>\n",
       "  <tbody>\n",
       "    <tr>\n",
       "      <th>0</th>\n",
       "      <td>Die immer lacht - Radio 2016 Mix</td>\n",
       "      <td>Die immer lacht</td>\n",
       "      <td>Stereoact</td>\n",
       "      <td>210573</td>\n",
       "      <td>57</td>\n",
       "      <td>0.729</td>\n",
       "      <td>0.026200</td>\n",
       "      <td>0.542</td>\n",
       "      <td>0.000005</td>\n",
       "      <td>0</td>\n",
       "      <td>0.2110</td>\n",
       "      <td>-7.671</td>\n",
       "      <td>0.0844</td>\n",
       "      <td>127.995</td>\n",
       "      <td>4</td>\n",
       "      <td>0.520</td>\n",
       "      <td>german dance</td>\n",
       "    </tr>\n",
       "    <tr>\n",
       "      <th>1</th>\n",
       "      <td>Sex ohne Grund (feat. Shindy)</td>\n",
       "      <td>Rumble in the Jungle</td>\n",
       "      <td>Ali Bumaye</td>\n",
       "      <td>187760</td>\n",
       "      <td>62</td>\n",
       "      <td>0.899</td>\n",
       "      <td>0.167000</td>\n",
       "      <td>0.600</td>\n",
       "      <td>0.000000</td>\n",
       "      <td>0</td>\n",
       "      <td>0.0469</td>\n",
       "      <td>-7.052</td>\n",
       "      <td>0.3270</td>\n",
       "      <td>93.982</td>\n",
       "      <td>4</td>\n",
       "      <td>0.685</td>\n",
       "      <td>gangster rap</td>\n",
       "    </tr>\n",
       "    <tr>\n",
       "      <th>2</th>\n",
       "      <td>Bossy Featuring Too $hort (feat. Too $hort)</td>\n",
       "      <td>The Hits</td>\n",
       "      <td>Kelis</td>\n",
       "      <td>272360</td>\n",
       "      <td>41</td>\n",
       "      <td>0.906</td>\n",
       "      <td>0.000172</td>\n",
       "      <td>0.636</td>\n",
       "      <td>0.000005</td>\n",
       "      <td>1</td>\n",
       "      <td>0.0511</td>\n",
       "      <td>-5.318</td>\n",
       "      <td>0.1880</td>\n",
       "      <td>84.011</td>\n",
       "      <td>4</td>\n",
       "      <td>0.782</td>\n",
       "      <td>alt z</td>\n",
       "    </tr>\n",
       "    <tr>\n",
       "      <th>3</th>\n",
       "      <td>Paradise - Radio Edit</td>\n",
       "      <td>Paradise (Radio Edit)</td>\n",
       "      <td>Benny Benassi</td>\n",
       "      <td>233168</td>\n",
       "      <td>46</td>\n",
       "      <td>0.592</td>\n",
       "      <td>0.009230</td>\n",
       "      <td>0.865</td>\n",
       "      <td>0.000000</td>\n",
       "      <td>1</td>\n",
       "      <td>0.1200</td>\n",
       "      <td>-5.426</td>\n",
       "      <td>0.0494</td>\n",
       "      <td>127.877</td>\n",
       "      <td>4</td>\n",
       "      <td>0.511</td>\n",
       "      <td>edm</td>\n",
       "    </tr>\n",
       "    <tr>\n",
       "      <th>4</th>\n",
       "      <td>Bonnie &amp; Clyde (feat. Amir der Sänger)</td>\n",
       "      <td>Ego (Premium Edition)</td>\n",
       "      <td>Fard</td>\n",
       "      <td>190528</td>\n",
       "      <td>35</td>\n",
       "      <td>0.380</td>\n",
       "      <td>0.123000</td>\n",
       "      <td>0.839</td>\n",
       "      <td>0.000000</td>\n",
       "      <td>1</td>\n",
       "      <td>0.1680</td>\n",
       "      <td>-6.554</td>\n",
       "      <td>0.4100</td>\n",
       "      <td>165.642</td>\n",
       "      <td>4</td>\n",
       "      <td>0.459</td>\n",
       "      <td>persian alternative</td>\n",
       "    </tr>\n",
       "  </tbody>\n",
       "</table>\n",
       "</div>"
      ],
      "text/plain": [
       "                                     trackname                  album  \\\n",
       "0             Die immer lacht - Radio 2016 Mix        Die immer lacht   \n",
       "1                Sex ohne Grund (feat. Shindy)   Rumble in the Jungle   \n",
       "2  Bossy Featuring Too $hort (feat. Too $hort)               The Hits   \n",
       "3                        Paradise - Radio Edit  Paradise (Radio Edit)   \n",
       "4       Bonnie & Clyde (feat. Amir der Sänger)  Ego (Premium Edition)   \n",
       "\n",
       "          artist  length  popularity  danceability  acousticness  energy  \\\n",
       "0      Stereoact  210573          57         0.729      0.026200   0.542   \n",
       "1     Ali Bumaye  187760          62         0.899      0.167000   0.600   \n",
       "2          Kelis  272360          41         0.906      0.000172   0.636   \n",
       "3  Benny Benassi  233168          46         0.592      0.009230   0.865   \n",
       "4           Fard  190528          35         0.380      0.123000   0.839   \n",
       "\n",
       "   instrumentalness   mode  liveness  loudness  speechiness    tempo  \\\n",
       "0          0.000005      0    0.2110    -7.671       0.0844  127.995   \n",
       "1          0.000000      0    0.0469    -7.052       0.3270   93.982   \n",
       "2          0.000005      1    0.0511    -5.318       0.1880   84.011   \n",
       "3          0.000000      1    0.1200    -5.426       0.0494  127.877   \n",
       "4          0.000000      1    0.1680    -6.554       0.4100  165.642   \n",
       "\n",
       "   time_signature  valence               genres  \n",
       "0               4    0.520         german dance  \n",
       "1               4    0.685         gangster rap  \n",
       "2               4    0.782                alt z  \n",
       "3               4    0.511                  edm  \n",
       "4               4    0.459  persian alternative  "
      ]
     },
     "execution_count": 9,
     "metadata": {},
     "output_type": "execute_result"
    }
   ],
   "source": [
    "df = pd.merge(tracks_df, genre,  on = 'artist') #\"artist\" is the common identifier\n",
    "df.head()"
   ]
  },
  {
   "cell_type": "code",
   "execution_count": 10,
   "metadata": {},
   "outputs": [
    {
     "data": {
      "text/plain": [
       "3"
      ]
     },
     "execution_count": 10,
     "metadata": {},
     "output_type": "execute_result"
    }
   ],
   "source": [
    "grouped = df.groupby(['trackname','artist'], as_index=True).size()\n",
    "grouped[grouped > 1].count()"
   ]
  },
  {
   "cell_type": "code",
   "execution_count": 11,
   "metadata": {},
   "outputs": [],
   "source": [
    "df.drop_duplicates(subset=['trackname','artist'], inplace=True)"
   ]
  },
  {
   "cell_type": "code",
   "execution_count": 12,
   "metadata": {},
   "outputs": [
    {
     "name": "stdout",
     "output_type": "stream",
     "text": [
      "<class 'pandas.core.frame.DataFrame'>\n",
      "Int64Index: 27 entries, 0 to 32\n",
      "Data columns (total 17 columns):\n",
      " #   Column            Non-Null Count  Dtype  \n",
      "---  ------            --------------  -----  \n",
      " 0   trackname         27 non-null     object \n",
      " 1   album             27 non-null     object \n",
      " 2   artist            27 non-null     object \n",
      " 3   length            27 non-null     int64  \n",
      " 4   popularity        27 non-null     int64  \n",
      " 5   danceability      27 non-null     float64\n",
      " 6   acousticness      27 non-null     float64\n",
      " 7   energy            27 non-null     float64\n",
      " 8   instrumentalness  27 non-null     float64\n",
      " 9    mode             27 non-null     int64  \n",
      " 10  liveness          27 non-null     float64\n",
      " 11  loudness          27 non-null     float64\n",
      " 12  speechiness       27 non-null     float64\n",
      " 13  tempo             27 non-null     float64\n",
      " 14  time_signature    27 non-null     int64  \n",
      " 15  valence           27 non-null     float64\n",
      " 16  genres            25 non-null     object \n",
      "dtypes: float64(9), int64(4), object(4)\n",
      "memory usage: 3.8+ KB\n"
     ]
    }
   ],
   "source": [
    "df.info()"
   ]
  },
  {
   "cell_type": "code",
   "execution_count": 13,
   "metadata": {},
   "outputs": [],
   "source": [
    "df.to_csv(\"playlist5.csv\", sep = ',')"
   ]
  },
  {
   "cell_type": "code",
   "execution_count": null,
   "metadata": {},
   "outputs": [],
   "source": []
  }
 ],
 "metadata": {
  "kernelspec": {
   "display_name": "Python 3",
   "language": "python",
   "name": "python3"
  },
  "language_info": {
   "codemirror_mode": {
    "name": "ipython",
    "version": 3
   },
   "file_extension": ".py",
   "mimetype": "text/x-python",
   "name": "python",
   "nbconvert_exporter": "python",
   "pygments_lexer": "ipython3",
   "version": "3.8.5"
  }
 },
 "nbformat": 4,
 "nbformat_minor": 4
}
