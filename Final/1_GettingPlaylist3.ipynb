{
 "cells": [
  {
   "cell_type": "markdown",
   "metadata": {},
   "source": [
    "## Collecting Data\n",
    "\n",
    "To collect my Spotify Data I used this source: https://github.com/plamere/spotipy/tree/master/examples"
   ]
  },
  {
   "cell_type": "code",
   "execution_count": 1,
   "metadata": {},
   "outputs": [],
   "source": [
    "import spotipy\n",
    "from spotipy.oauth2 import SpotifyClientCredentials\n",
    "import pandas as pd\n",
    "import time \n",
    "\n",
    "\n",
    "client_id = '3d5be77a0a8b4b34a19fe1c509719169'\n",
    "client_secret = 'b5f6d556e9a74f48a88ec4e4a40bfc5e'\n",
    "\n",
    "client_credentials_manager = SpotifyClientCredentials(client_id, client_secret)\n",
    "sp = spotipy.Spotify(client_credentials_manager=client_credentials_manager)\n"
   ]
  },
  {
   "cell_type": "code",
   "execution_count": 2,
   "metadata": {},
   "outputs": [],
   "source": [
    "\n",
    "def getTrackIDs(user, playlist_id):\n",
    "    ids = []\n",
    "    playlist = sp.user_playlist(user, playlist_id)\n",
    "\n",
    "    for item in playlist['tracks']['items']:\n",
    "        track = item['track']\n",
    "        ids.append(track['id'])\n",
    "        \n",
    "    \n",
    "    return ids\n",
    "\n",
    "\n",
    "\n",
    "ids = getTrackIDs('FitnessFitnessFITNESSMINE', '695feaZvvoko76YU2NbFev')\n",
    "\n",
    "\n",
    "def getTrackFeatures(id):\n",
    "  meta = sp.track(id)\n",
    "  features = sp.audio_features(id)\n",
    "\n",
    "  # meta\n",
    "  name = meta['name']\n",
    "  album = meta['album']['name']\n",
    "  artist = meta['album']['artists'][0]['name']\n",
    "  length = meta['duration_ms']\n",
    "  popularity = meta['popularity']\n",
    " \n",
    "  # features\n",
    "  acousticness = features[0]['acousticness']\n",
    "  danceability = features[0]['danceability']\n",
    "  energy = features[0]['energy']\n",
    "  instrumentalness = features[0]['instrumentalness']\n",
    "  mode = features[0]['mode']\n",
    "  liveness = features[0]['liveness']\n",
    "  loudness = features[0]['loudness']\n",
    "  speechiness = features[0]['speechiness']\n",
    "  tempo = features[0]['tempo']\n",
    "  time_signature = features[0]['time_signature']\n",
    "  valence = features[0]['valence']\n",
    "\n",
    "  track = [name, album, artist, length, popularity, danceability, acousticness, energy, instrumentalness, mode, liveness, loudness, speechiness, tempo, time_signature, valence]\n",
    "  return track\n",
    "\n",
    "\n",
    "\n",
    "# loop over track ids \n",
    "tracks = []\n",
    "for i in range(len(ids)):\n",
    "  time.sleep(.5)\n",
    "  track = getTrackFeatures(ids[i])\n",
    "  tracks.append(track)\n",
    "\n",
    "# create dataset\n",
    "tracks_df = pd.DataFrame(tracks, columns = ['trackname', 'album', 'artist', 'length', 'popularity', 'danceability', 'acousticness', 'energy', 'instrumentalness', ' mode', 'liveness', 'loudness', 'speechiness', 'tempo', 'time_signature', 'valence'])"
   ]
  },
  {
   "cell_type": "code",
   "execution_count": 3,
   "metadata": {},
   "outputs": [
    {
     "name": "stdout",
     "output_type": "stream",
     "text": [
      "<class 'pandas.core.frame.DataFrame'>\n",
      "RangeIndex: 70 entries, 0 to 69\n",
      "Data columns (total 16 columns):\n",
      " #   Column            Non-Null Count  Dtype  \n",
      "---  ------            --------------  -----  \n",
      " 0   trackname         70 non-null     object \n",
      " 1   album             70 non-null     object \n",
      " 2   artist            70 non-null     object \n",
      " 3   length            70 non-null     int64  \n",
      " 4   popularity        70 non-null     int64  \n",
      " 5   danceability      70 non-null     float64\n",
      " 6   acousticness      70 non-null     float64\n",
      " 7   energy            70 non-null     float64\n",
      " 8   instrumentalness  70 non-null     float64\n",
      " 9    mode             70 non-null     int64  \n",
      " 10  liveness          70 non-null     float64\n",
      " 11  loudness          70 non-null     float64\n",
      " 12  speechiness       70 non-null     float64\n",
      " 13  tempo             70 non-null     float64\n",
      " 14  time_signature    70 non-null     int64  \n",
      " 15  valence           70 non-null     float64\n",
      "dtypes: float64(9), int64(4), object(3)\n",
      "memory usage: 8.9+ KB\n"
     ]
    }
   ],
   "source": [
    "tracks_df.info()"
   ]
  },
  {
   "cell_type": "code",
   "execution_count": 4,
   "metadata": {},
   "outputs": [
    {
     "name": "stdout",
     "output_type": "stream",
     "text": [
      "artist genres: ['dance pop', 'miami hip hop', 'pop', 'pop dance', 'pop rap']\n",
      "['dance pop', 'miami hip hop', 'pop', 'pop dance', 'pop rap']\n",
      "Flo Rida\n"
     ]
    }
   ],
   "source": [
    "dct = sp.playlist(\"695feaZvvoko76YU2NbFev\", fields=None, market=None, additional_types=('track', ))\n",
    "result = sp.search(dct['tracks']['items'][0]['track']['artists'][0]['name'])\n",
    "track = result['tracks']['items'][0]\n",
    "\n",
    "artist = sp.artist(track[\"artists\"][0][\"external_urls\"][\"spotify\"])\n",
    "print(\"artist genres:\", artist[\"genres\"])\n",
    "\n",
    "genres = artist[\"genres\"]\n",
    "artist = artist['name']\n",
    "print(genres)\n",
    "print (artist)"
   ]
  },
  {
   "cell_type": "code",
   "execution_count": 5,
   "metadata": {},
   "outputs": [],
   "source": [
    "from tqdm import tqdm\n",
    "import pandas as pd"
   ]
  },
  {
   "cell_type": "code",
   "execution_count": 6,
   "metadata": {},
   "outputs": [
    {
     "name": "stderr",
     "output_type": "stream",
     "text": [
      "100%|██████████████████████████████████████████████████████████████████████████████████| 70/70 [00:18<00:00,  3.75it/s]\n"
     ]
    }
   ],
   "source": [
    "rows = []\n",
    "for t in tqdm(range(len(tracks_df))):\n",
    "    track_row = []\n",
    "    \n",
    "    track = dct['tracks']['items'][t]['track']['name']\n",
    "    artist = dct['tracks']['items'][t]['track']['artists'][0]['name']\n",
    "    \n",
    "    result = sp.search(dct['tracks']['items'][t]['track']['artists'][0]['name'])\n",
    "    tr = result['tracks']['items'][0]\n",
    "    art = sp.artist(tr[\"artists\"][0][\"external_urls\"][\"spotify\"])\n",
    "    \n",
    "    genre = art[\"genres\"]\n",
    "    try:\n",
    "        track_row = [artist, genre[0]]\n",
    "    except:\n",
    "        track_row = [artist]\n",
    "    rows.append(track_row)\n",
    "    \n",
    "    \n",
    "genre = pd.DataFrame.from_dict(rows)"
   ]
  },
  {
   "cell_type": "code",
   "execution_count": 7,
   "metadata": {},
   "outputs": [],
   "source": [
    "genre.columns = ['artist', 'genres']"
   ]
  },
  {
   "cell_type": "code",
   "execution_count": 8,
   "metadata": {},
   "outputs": [
    {
     "name": "stdout",
     "output_type": "stream",
     "text": [
      "<class 'pandas.core.frame.DataFrame'>\n",
      "RangeIndex: 70 entries, 0 to 69\n",
      "Data columns (total 2 columns):\n",
      " #   Column  Non-Null Count  Dtype \n",
      "---  ------  --------------  ----- \n",
      " 0   artist  70 non-null     object\n",
      " 1   genres  67 non-null     object\n",
      "dtypes: object(2)\n",
      "memory usage: 1.2+ KB\n"
     ]
    }
   ],
   "source": [
    "genre.info()"
   ]
  },
  {
   "cell_type": "code",
   "execution_count": 9,
   "metadata": {},
   "outputs": [
    {
     "data": {
      "text/html": [
       "<div>\n",
       "<style scoped>\n",
       "    .dataframe tbody tr th:only-of-type {\n",
       "        vertical-align: middle;\n",
       "    }\n",
       "\n",
       "    .dataframe tbody tr th {\n",
       "        vertical-align: top;\n",
       "    }\n",
       "\n",
       "    .dataframe thead th {\n",
       "        text-align: right;\n",
       "    }\n",
       "</style>\n",
       "<table border=\"1\" class=\"dataframe\">\n",
       "  <thead>\n",
       "    <tr style=\"text-align: right;\">\n",
       "      <th></th>\n",
       "      <th>trackname</th>\n",
       "      <th>album</th>\n",
       "      <th>artist</th>\n",
       "      <th>length</th>\n",
       "      <th>popularity</th>\n",
       "      <th>danceability</th>\n",
       "      <th>acousticness</th>\n",
       "      <th>energy</th>\n",
       "      <th>instrumentalness</th>\n",
       "      <th>mode</th>\n",
       "      <th>liveness</th>\n",
       "      <th>loudness</th>\n",
       "      <th>speechiness</th>\n",
       "      <th>tempo</th>\n",
       "      <th>time_signature</th>\n",
       "      <th>valence</th>\n",
       "      <th>genres</th>\n",
       "    </tr>\n",
       "  </thead>\n",
       "  <tbody>\n",
       "    <tr>\n",
       "      <th>0</th>\n",
       "      <td>Hola (feat. Maluma)</td>\n",
       "      <td>Hola (feat. Maluma)</td>\n",
       "      <td>Flo Rida</td>\n",
       "      <td>192376</td>\n",
       "      <td>57</td>\n",
       "      <td>0.757</td>\n",
       "      <td>0.02070</td>\n",
       "      <td>0.711</td>\n",
       "      <td>0.000030</td>\n",
       "      <td>1</td>\n",
       "      <td>0.1100</td>\n",
       "      <td>-5.693</td>\n",
       "      <td>0.0769</td>\n",
       "      <td>113.026</td>\n",
       "      <td>4</td>\n",
       "      <td>0.649</td>\n",
       "      <td>dance pop</td>\n",
       "    </tr>\n",
       "    <tr>\n",
       "      <th>1</th>\n",
       "      <td>Places</td>\n",
       "      <td>Places</td>\n",
       "      <td>Martin Solveig</td>\n",
       "      <td>202745</td>\n",
       "      <td>63</td>\n",
       "      <td>0.728</td>\n",
       "      <td>0.24800</td>\n",
       "      <td>0.854</td>\n",
       "      <td>0.001880</td>\n",
       "      <td>0</td>\n",
       "      <td>0.1490</td>\n",
       "      <td>-3.860</td>\n",
       "      <td>0.0457</td>\n",
       "      <td>121.995</td>\n",
       "      <td>4</td>\n",
       "      <td>0.620</td>\n",
       "      <td>dance pop</td>\n",
       "    </tr>\n",
       "    <tr>\n",
       "      <th>2</th>\n",
       "      <td>I Need You (feat. Olaf Blackwood) - Extended C...</td>\n",
       "      <td>I Need You (feat. Olaf Blackwood) [Club Mix]</td>\n",
       "      <td>Armin van Buuren</td>\n",
       "      <td>330360</td>\n",
       "      <td>22</td>\n",
       "      <td>0.666</td>\n",
       "      <td>0.00151</td>\n",
       "      <td>0.872</td>\n",
       "      <td>0.137000</td>\n",
       "      <td>0</td>\n",
       "      <td>0.0933</td>\n",
       "      <td>-6.497</td>\n",
       "      <td>0.0584</td>\n",
       "      <td>127.984</td>\n",
       "      <td>4</td>\n",
       "      <td>0.255</td>\n",
       "      <td>dance pop</td>\n",
       "    </tr>\n",
       "    <tr>\n",
       "      <th>3</th>\n",
       "      <td>Come Get It Bae</td>\n",
       "      <td>G I R L</td>\n",
       "      <td>Pharrell Williams</td>\n",
       "      <td>201933</td>\n",
       "      <td>0</td>\n",
       "      <td>0.934</td>\n",
       "      <td>0.26600</td>\n",
       "      <td>0.798</td>\n",
       "      <td>0.000045</td>\n",
       "      <td>1</td>\n",
       "      <td>0.0962</td>\n",
       "      <td>-5.665</td>\n",
       "      <td>0.0849</td>\n",
       "      <td>120.162</td>\n",
       "      <td>4</td>\n",
       "      <td>0.895</td>\n",
       "      <td>latin</td>\n",
       "    </tr>\n",
       "    <tr>\n",
       "      <th>4</th>\n",
       "      <td>Let Me Love You - R3hab Remix</td>\n",
       "      <td>Let Me Love You (R3hab Remix)</td>\n",
       "      <td>DJ Snake</td>\n",
       "      <td>175000</td>\n",
       "      <td>53</td>\n",
       "      <td>0.433</td>\n",
       "      <td>0.02090</td>\n",
       "      <td>0.820</td>\n",
       "      <td>0.000000</td>\n",
       "      <td>0</td>\n",
       "      <td>0.2920</td>\n",
       "      <td>-2.840</td>\n",
       "      <td>0.0924</td>\n",
       "      <td>203.968</td>\n",
       "      <td>4</td>\n",
       "      <td>0.536</td>\n",
       "      <td>dance pop</td>\n",
       "    </tr>\n",
       "  </tbody>\n",
       "</table>\n",
       "</div>"
      ],
      "text/plain": [
       "                                           trackname  \\\n",
       "0                                Hola (feat. Maluma)   \n",
       "1                                             Places   \n",
       "2  I Need You (feat. Olaf Blackwood) - Extended C...   \n",
       "3                                    Come Get It Bae   \n",
       "4                      Let Me Love You - R3hab Remix   \n",
       "\n",
       "                                          album             artist  length  \\\n",
       "0                           Hola (feat. Maluma)           Flo Rida  192376   \n",
       "1                                        Places     Martin Solveig  202745   \n",
       "2  I Need You (feat. Olaf Blackwood) [Club Mix]   Armin van Buuren  330360   \n",
       "3                                       G I R L  Pharrell Williams  201933   \n",
       "4                 Let Me Love You (R3hab Remix)           DJ Snake  175000   \n",
       "\n",
       "   popularity  danceability  acousticness  energy  instrumentalness   mode  \\\n",
       "0          57         0.757       0.02070   0.711          0.000030      1   \n",
       "1          63         0.728       0.24800   0.854          0.001880      0   \n",
       "2          22         0.666       0.00151   0.872          0.137000      0   \n",
       "3           0         0.934       0.26600   0.798          0.000045      1   \n",
       "4          53         0.433       0.02090   0.820          0.000000      0   \n",
       "\n",
       "   liveness  loudness  speechiness    tempo  time_signature  valence  \\\n",
       "0    0.1100    -5.693       0.0769  113.026               4    0.649   \n",
       "1    0.1490    -3.860       0.0457  121.995               4    0.620   \n",
       "2    0.0933    -6.497       0.0584  127.984               4    0.255   \n",
       "3    0.0962    -5.665       0.0849  120.162               4    0.895   \n",
       "4    0.2920    -2.840       0.0924  203.968               4    0.536   \n",
       "\n",
       "      genres  \n",
       "0  dance pop  \n",
       "1  dance pop  \n",
       "2  dance pop  \n",
       "3      latin  \n",
       "4  dance pop  "
      ]
     },
     "execution_count": 9,
     "metadata": {},
     "output_type": "execute_result"
    }
   ],
   "source": [
    "df = pd.merge(tracks_df, genre,  on = 'artist') #\"artist\" is the common identifier\n",
    "df.head()"
   ]
  },
  {
   "cell_type": "code",
   "execution_count": 10,
   "metadata": {},
   "outputs": [
    {
     "data": {
      "text/plain": [
       "17"
      ]
     },
     "execution_count": 10,
     "metadata": {},
     "output_type": "execute_result"
    }
   ],
   "source": [
    "grouped = df.groupby(['trackname','artist'], as_index=True).size()\n",
    "grouped[grouped > 1].count()"
   ]
  },
  {
   "cell_type": "code",
   "execution_count": 11,
   "metadata": {},
   "outputs": [],
   "source": [
    "df.drop_duplicates(subset=['trackname','artist'], inplace=True)"
   ]
  },
  {
   "cell_type": "code",
   "execution_count": 12,
   "metadata": {},
   "outputs": [
    {
     "name": "stdout",
     "output_type": "stream",
     "text": [
      "<class 'pandas.core.frame.DataFrame'>\n",
      "Int64Index: 70 entries, 0 to 97\n",
      "Data columns (total 17 columns):\n",
      " #   Column            Non-Null Count  Dtype  \n",
      "---  ------            --------------  -----  \n",
      " 0   trackname         70 non-null     object \n",
      " 1   album             70 non-null     object \n",
      " 2   artist            70 non-null     object \n",
      " 3   length            70 non-null     int64  \n",
      " 4   popularity        70 non-null     int64  \n",
      " 5   danceability      70 non-null     float64\n",
      " 6   acousticness      70 non-null     float64\n",
      " 7   energy            70 non-null     float64\n",
      " 8   instrumentalness  70 non-null     float64\n",
      " 9    mode             70 non-null     int64  \n",
      " 10  liveness          70 non-null     float64\n",
      " 11  loudness          70 non-null     float64\n",
      " 12  speechiness       70 non-null     float64\n",
      " 13  tempo             70 non-null     float64\n",
      " 14  time_signature    70 non-null     int64  \n",
      " 15  valence           70 non-null     float64\n",
      " 16  genres            67 non-null     object \n",
      "dtypes: float64(9), int64(4), object(4)\n",
      "memory usage: 9.8+ KB\n"
     ]
    }
   ],
   "source": [
    "df.info()"
   ]
  },
  {
   "cell_type": "code",
   "execution_count": 13,
   "metadata": {},
   "outputs": [],
   "source": [
    "df.to_csv(\"playlist3.csv\", sep = ',')"
   ]
  },
  {
   "cell_type": "code",
   "execution_count": null,
   "metadata": {},
   "outputs": [],
   "source": []
  }
 ],
 "metadata": {
  "kernelspec": {
   "display_name": "Python 3",
   "language": "python",
   "name": "python3"
  },
  "language_info": {
   "codemirror_mode": {
    "name": "ipython",
    "version": 3
   },
   "file_extension": ".py",
   "mimetype": "text/x-python",
   "name": "python",
   "nbconvert_exporter": "python",
   "pygments_lexer": "ipython3",
   "version": "3.8.5"
  }
 },
 "nbformat": 4,
 "nbformat_minor": 4
}
