{
 "cells": [
  {
   "cell_type": "markdown",
   "metadata": {},
   "source": [
    "## Collecting Data\n",
    "\n",
    "To collect my Spotify Data I used this source: https://github.com/plamere/spotipy/tree/master/examples"
   ]
  },
  {
   "cell_type": "code",
   "execution_count": 1,
   "metadata": {},
   "outputs": [],
   "source": [
    "import spotipy\n",
    "from spotipy.oauth2 import SpotifyClientCredentials\n",
    "import pandas as pd\n",
    "import time \n",
    "\n",
    "\n",
    "client_id = '3d5be77a0a8b4b34a19fe1c509719169'\n",
    "client_secret = 'b5f6d556e9a74f48a88ec4e4a40bfc5e'\n",
    "\n",
    "client_credentials_manager = SpotifyClientCredentials(client_id, client_secret)\n",
    "sp = spotipy.Spotify(client_credentials_manager=client_credentials_manager)\n"
   ]
  },
  {
   "cell_type": "code",
   "execution_count": 2,
   "metadata": {},
   "outputs": [],
   "source": [
    "\n",
    "def getTrackIDs(user, playlist_id):\n",
    "    ids = []\n",
    "    playlist = sp.user_playlist(user, playlist_id)\n",
    "\n",
    "    for item in playlist['tracks']['items']:\n",
    "        track = item['track']\n",
    "        ids.append(track['id'])\n",
    "        \n",
    "    \n",
    "    return ids\n",
    "\n",
    "\n",
    "\n",
    "ids = getTrackIDs('Kein Bock auf Liebeslieder', '3xapcIj6Si6DVdI94r6Pya')\n",
    "\n",
    "\n",
    "def getTrackFeatures(id):\n",
    "  meta = sp.track(id)\n",
    "  features = sp.audio_features(id)\n",
    "\n",
    "  # meta\n",
    "  name = meta['name']\n",
    "  album = meta['album']['name']\n",
    "  artist = meta['album']['artists'][0]['name']\n",
    "  length = meta['duration_ms']\n",
    "  popularity = meta['popularity']\n",
    " \n",
    "  # features\n",
    "  acousticness = features[0]['acousticness']\n",
    "  danceability = features[0]['danceability']\n",
    "  energy = features[0]['energy']\n",
    "  instrumentalness = features[0]['instrumentalness']\n",
    "  mode = features[0]['mode']\n",
    "  liveness = features[0]['liveness']\n",
    "  loudness = features[0]['loudness']\n",
    "  speechiness = features[0]['speechiness']\n",
    "  tempo = features[0]['tempo']\n",
    "  time_signature = features[0]['time_signature']\n",
    "  valence = features[0]['valence']\n",
    "\n",
    "  track = [name, album, artist, length, popularity, danceability, acousticness, energy, instrumentalness, mode, liveness, loudness, speechiness, tempo, time_signature, valence]\n",
    "  return track\n",
    "\n",
    "\n",
    "\n",
    "# loop over track ids \n",
    "tracks = []\n",
    "for i in range(len(ids)):\n",
    "  time.sleep(.5)\n",
    "  track = getTrackFeatures(ids[i])\n",
    "  tracks.append(track)\n",
    "\n",
    "# create dataset\n",
    "tracks_df = pd.DataFrame(tracks, columns = ['trackname', 'album', 'artist', 'length', 'popularity', 'danceability', 'acousticness', 'energy', 'instrumentalness', ' mode', 'liveness', 'loudness', 'speechiness', 'tempo', 'time_signature', 'valence'])"
   ]
  },
  {
   "cell_type": "code",
   "execution_count": 3,
   "metadata": {},
   "outputs": [
    {
     "name": "stdout",
     "output_type": "stream",
     "text": [
      "<class 'pandas.core.frame.DataFrame'>\n",
      "RangeIndex: 78 entries, 0 to 77\n",
      "Data columns (total 16 columns):\n",
      " #   Column            Non-Null Count  Dtype  \n",
      "---  ------            --------------  -----  \n",
      " 0   trackname         78 non-null     object \n",
      " 1   album             78 non-null     object \n",
      " 2   artist            78 non-null     object \n",
      " 3   length            78 non-null     int64  \n",
      " 4   popularity        78 non-null     int64  \n",
      " 5   danceability      78 non-null     float64\n",
      " 6   acousticness      78 non-null     float64\n",
      " 7   energy            78 non-null     float64\n",
      " 8   instrumentalness  78 non-null     float64\n",
      " 9    mode             78 non-null     int64  \n",
      " 10  liveness          78 non-null     float64\n",
      " 11  loudness          78 non-null     float64\n",
      " 12  speechiness       78 non-null     float64\n",
      " 13  tempo             78 non-null     float64\n",
      " 14  time_signature    78 non-null     int64  \n",
      " 15  valence           78 non-null     float64\n",
      "dtypes: float64(9), int64(4), object(3)\n",
      "memory usage: 9.9+ KB\n"
     ]
    }
   ],
   "source": [
    "tracks_df.info()"
   ]
  },
  {
   "cell_type": "code",
   "execution_count": 4,
   "metadata": {},
   "outputs": [
    {
     "name": "stdout",
     "output_type": "stream",
     "text": [
      "artist genres: ['alt z', 'dance pop', 'pop', 'post-teen pop']\n",
      "['alt z', 'dance pop', 'pop', 'post-teen pop']\n",
      "Noah Cyrus\n"
     ]
    }
   ],
   "source": [
    "dct = sp.playlist(\"3xapcIj6Si6DVdI94r6Pya\", fields=None, market=None, additional_types=('track', ))\n",
    "result = sp.search(dct['tracks']['items'][0]['track']['artists'][0]['name'])\n",
    "track = result['tracks']['items'][0]\n",
    "\n",
    "artist = sp.artist(track[\"artists\"][0][\"external_urls\"][\"spotify\"])\n",
    "print(\"artist genres:\", artist[\"genres\"])\n",
    "\n",
    "genres = artist[\"genres\"]\n",
    "artist = artist['name']\n",
    "print(genres)\n",
    "print (artist)"
   ]
  },
  {
   "cell_type": "code",
   "execution_count": 5,
   "metadata": {},
   "outputs": [],
   "source": [
    "from tqdm import tqdm\n",
    "import pandas as pd"
   ]
  },
  {
   "cell_type": "code",
   "execution_count": 6,
   "metadata": {},
   "outputs": [
    {
     "name": "stderr",
     "output_type": "stream",
     "text": [
      "100%|██████████████████████████████████████████████████████████████████████████████████| 78/78 [00:09<00:00,  8.00it/s]\n"
     ]
    }
   ],
   "source": [
    "rows = []\n",
    "for t in tqdm(range(len(tracks_df))):\n",
    "    track_row = []\n",
    "    \n",
    "    track = dct['tracks']['items'][t]['track']['name']\n",
    "    artist = dct['tracks']['items'][t]['track']['artists'][0]['name']\n",
    "    \n",
    "    result = sp.search(dct['tracks']['items'][t]['track']['artists'][0]['name'])\n",
    "    tr = result['tracks']['items'][0]\n",
    "    art = sp.artist(tr[\"artists\"][0][\"external_urls\"][\"spotify\"])\n",
    "    \n",
    "    genre = art[\"genres\"]\n",
    "    try:\n",
    "        track_row = [artist, genre[0]]\n",
    "    except:\n",
    "        track_row = [artist]\n",
    "    rows.append(track_row)\n",
    "    \n",
    "    \n",
    "genre = pd.DataFrame.from_dict(rows)"
   ]
  },
  {
   "cell_type": "code",
   "execution_count": 7,
   "metadata": {},
   "outputs": [],
   "source": [
    "genre.columns = ['artist', 'genres']"
   ]
  },
  {
   "cell_type": "code",
   "execution_count": 8,
   "metadata": {},
   "outputs": [
    {
     "name": "stdout",
     "output_type": "stream",
     "text": [
      "<class 'pandas.core.frame.DataFrame'>\n",
      "RangeIndex: 78 entries, 0 to 77\n",
      "Data columns (total 2 columns):\n",
      " #   Column  Non-Null Count  Dtype \n",
      "---  ------  --------------  ----- \n",
      " 0   artist  78 non-null     object\n",
      " 1   genres  73 non-null     object\n",
      "dtypes: object(2)\n",
      "memory usage: 1.3+ KB\n"
     ]
    }
   ],
   "source": [
    "genre.info()"
   ]
  },
  {
   "cell_type": "code",
   "execution_count": 9,
   "metadata": {},
   "outputs": [
    {
     "data": {
      "text/html": [
       "<div>\n",
       "<style scoped>\n",
       "    .dataframe tbody tr th:only-of-type {\n",
       "        vertical-align: middle;\n",
       "    }\n",
       "\n",
       "    .dataframe tbody tr th {\n",
       "        vertical-align: top;\n",
       "    }\n",
       "\n",
       "    .dataframe thead th {\n",
       "        text-align: right;\n",
       "    }\n",
       "</style>\n",
       "<table border=\"1\" class=\"dataframe\">\n",
       "  <thead>\n",
       "    <tr style=\"text-align: right;\">\n",
       "      <th></th>\n",
       "      <th>trackname</th>\n",
       "      <th>album</th>\n",
       "      <th>artist</th>\n",
       "      <th>length</th>\n",
       "      <th>popularity</th>\n",
       "      <th>danceability</th>\n",
       "      <th>acousticness</th>\n",
       "      <th>energy</th>\n",
       "      <th>instrumentalness</th>\n",
       "      <th>mode</th>\n",
       "      <th>liveness</th>\n",
       "      <th>loudness</th>\n",
       "      <th>speechiness</th>\n",
       "      <th>tempo</th>\n",
       "      <th>time_signature</th>\n",
       "      <th>valence</th>\n",
       "      <th>genres</th>\n",
       "    </tr>\n",
       "  </thead>\n",
       "  <tbody>\n",
       "    <tr>\n",
       "      <th>0</th>\n",
       "      <td>Make Me (Cry)</td>\n",
       "      <td>Make Me (Cry)</td>\n",
       "      <td>Noah Cyrus</td>\n",
       "      <td>242081</td>\n",
       "      <td>68</td>\n",
       "      <td>0.588</td>\n",
       "      <td>0.59200</td>\n",
       "      <td>0.471</td>\n",
       "      <td>0.00146</td>\n",
       "      <td>1</td>\n",
       "      <td>0.0733</td>\n",
       "      <td>-7.287</td>\n",
       "      <td>0.0577</td>\n",
       "      <td>152.881</td>\n",
       "      <td>4</td>\n",
       "      <td>0.2090</td>\n",
       "      <td>alt z</td>\n",
       "    </tr>\n",
       "    <tr>\n",
       "      <th>1</th>\n",
       "      <td>Idfc</td>\n",
       "      <td>Deadroses</td>\n",
       "      <td>blackbear</td>\n",
       "      <td>245172</td>\n",
       "      <td>0</td>\n",
       "      <td>0.630</td>\n",
       "      <td>0.61100</td>\n",
       "      <td>0.500</td>\n",
       "      <td>0.00004</td>\n",
       "      <td>0</td>\n",
       "      <td>0.1140</td>\n",
       "      <td>-8.755</td>\n",
       "      <td>0.0611</td>\n",
       "      <td>144.871</td>\n",
       "      <td>4</td>\n",
       "      <td>0.3150</td>\n",
       "      <td>ohio hip hop</td>\n",
       "    </tr>\n",
       "    <tr>\n",
       "      <th>2</th>\n",
       "      <td>You &amp; Me</td>\n",
       "      <td>Groovy People</td>\n",
       "      <td>Marc E. Bassy</td>\n",
       "      <td>218480</td>\n",
       "      <td>0</td>\n",
       "      <td>0.693</td>\n",
       "      <td>0.03980</td>\n",
       "      <td>0.650</td>\n",
       "      <td>0.00000</td>\n",
       "      <td>1</td>\n",
       "      <td>0.1860</td>\n",
       "      <td>-8.376</td>\n",
       "      <td>0.1920</td>\n",
       "      <td>85.026</td>\n",
       "      <td>4</td>\n",
       "      <td>0.6630</td>\n",
       "      <td>electropop</td>\n",
       "    </tr>\n",
       "    <tr>\n",
       "      <th>3</th>\n",
       "      <td>in my miNd</td>\n",
       "      <td>In My Mind</td>\n",
       "      <td>Maty Noyes</td>\n",
       "      <td>212026</td>\n",
       "      <td>0</td>\n",
       "      <td>0.768</td>\n",
       "      <td>0.45000</td>\n",
       "      <td>0.632</td>\n",
       "      <td>0.00000</td>\n",
       "      <td>0</td>\n",
       "      <td>0.0449</td>\n",
       "      <td>-3.807</td>\n",
       "      <td>0.0254</td>\n",
       "      <td>102.061</td>\n",
       "      <td>4</td>\n",
       "      <td>0.7860</td>\n",
       "      <td>edm</td>\n",
       "    </tr>\n",
       "    <tr>\n",
       "      <th>4</th>\n",
       "      <td>Lucifer</td>\n",
       "      <td>Lucifer</td>\n",
       "      <td>XOV</td>\n",
       "      <td>188146</td>\n",
       "      <td>0</td>\n",
       "      <td>0.527</td>\n",
       "      <td>0.00414</td>\n",
       "      <td>0.528</td>\n",
       "      <td>0.00000</td>\n",
       "      <td>0</td>\n",
       "      <td>0.3200</td>\n",
       "      <td>-6.604</td>\n",
       "      <td>0.0430</td>\n",
       "      <td>127.957</td>\n",
       "      <td>4</td>\n",
       "      <td>0.0791</td>\n",
       "      <td>melodic rap</td>\n",
       "    </tr>\n",
       "  </tbody>\n",
       "</table>\n",
       "</div>"
      ],
      "text/plain": [
       "       trackname          album         artist  length  popularity  \\\n",
       "0  Make Me (Cry)  Make Me (Cry)     Noah Cyrus  242081          68   \n",
       "1           Idfc      Deadroses      blackbear  245172           0   \n",
       "2       You & Me  Groovy People  Marc E. Bassy  218480           0   \n",
       "3     in my miNd     In My Mind     Maty Noyes  212026           0   \n",
       "4        Lucifer        Lucifer            XOV  188146           0   \n",
       "\n",
       "   danceability  acousticness  energy  instrumentalness   mode  liveness  \\\n",
       "0         0.588       0.59200   0.471           0.00146      1    0.0733   \n",
       "1         0.630       0.61100   0.500           0.00004      0    0.1140   \n",
       "2         0.693       0.03980   0.650           0.00000      1    0.1860   \n",
       "3         0.768       0.45000   0.632           0.00000      0    0.0449   \n",
       "4         0.527       0.00414   0.528           0.00000      0    0.3200   \n",
       "\n",
       "   loudness  speechiness    tempo  time_signature  valence        genres  \n",
       "0    -7.287       0.0577  152.881               4   0.2090         alt z  \n",
       "1    -8.755       0.0611  144.871               4   0.3150  ohio hip hop  \n",
       "2    -8.376       0.1920   85.026               4   0.6630    electropop  \n",
       "3    -3.807       0.0254  102.061               4   0.7860           edm  \n",
       "4    -6.604       0.0430  127.957               4   0.0791   melodic rap  "
      ]
     },
     "execution_count": 9,
     "metadata": {},
     "output_type": "execute_result"
    }
   ],
   "source": [
    "df = pd.merge(tracks_df, genre,  on = 'artist') #\"artist\" is the common identifier\n",
    "df.head()"
   ]
  },
  {
   "cell_type": "code",
   "execution_count": 10,
   "metadata": {},
   "outputs": [
    {
     "data": {
      "text/plain": [
       "31"
      ]
     },
     "execution_count": 10,
     "metadata": {},
     "output_type": "execute_result"
    }
   ],
   "source": [
    "grouped = df.groupby(['trackname','artist'], as_index=True).size()\n",
    "grouped[grouped > 1].count()"
   ]
  },
  {
   "cell_type": "code",
   "execution_count": 11,
   "metadata": {},
   "outputs": [],
   "source": [
    "df.drop_duplicates(subset=['trackname','artist'], inplace=True)"
   ]
  },
  {
   "cell_type": "code",
   "execution_count": 12,
   "metadata": {},
   "outputs": [
    {
     "name": "stdout",
     "output_type": "stream",
     "text": [
      "<class 'pandas.core.frame.DataFrame'>\n",
      "Int64Index: 74 entries, 0 to 233\n",
      "Data columns (total 17 columns):\n",
      " #   Column            Non-Null Count  Dtype  \n",
      "---  ------            --------------  -----  \n",
      " 0   trackname         74 non-null     object \n",
      " 1   album             74 non-null     object \n",
      " 2   artist            74 non-null     object \n",
      " 3   length            74 non-null     int64  \n",
      " 4   popularity        74 non-null     int64  \n",
      " 5   danceability      74 non-null     float64\n",
      " 6   acousticness      74 non-null     float64\n",
      " 7   energy            74 non-null     float64\n",
      " 8   instrumentalness  74 non-null     float64\n",
      " 9    mode             74 non-null     int64  \n",
      " 10  liveness          74 non-null     float64\n",
      " 11  loudness          74 non-null     float64\n",
      " 12  speechiness       74 non-null     float64\n",
      " 13  tempo             74 non-null     float64\n",
      " 14  time_signature    74 non-null     int64  \n",
      " 15  valence           74 non-null     float64\n",
      " 16  genres            69 non-null     object \n",
      "dtypes: float64(9), int64(4), object(4)\n",
      "memory usage: 10.4+ KB\n"
     ]
    }
   ],
   "source": [
    "df.info()"
   ]
  },
  {
   "cell_type": "code",
   "execution_count": 13,
   "metadata": {},
   "outputs": [],
   "source": [
    "df.to_csv(\"playlist4.csv\", sep = ',')"
   ]
  },
  {
   "cell_type": "code",
   "execution_count": null,
   "metadata": {},
   "outputs": [],
   "source": []
  }
 ],
 "metadata": {
  "kernelspec": {
   "display_name": "Python 3",
   "language": "python",
   "name": "python3"
  },
  "language_info": {
   "codemirror_mode": {
    "name": "ipython",
    "version": 3
   },
   "file_extension": ".py",
   "mimetype": "text/x-python",
   "name": "python",
   "nbconvert_exporter": "python",
   "pygments_lexer": "ipython3",
   "version": "3.8.5"
  }
 },
 "nbformat": 4,
 "nbformat_minor": 4
}
