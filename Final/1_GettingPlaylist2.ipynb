{
 "cells": [
  {
   "cell_type": "markdown",
   "metadata": {},
   "source": [
    "## Collecting Data \n",
    "\n",
    "To collect my Spotify Data I used this source: https://github.com/plamere/spotipy/tree/master/examples"
   ]
  },
  {
   "cell_type": "code",
   "execution_count": 1,
   "metadata": {},
   "outputs": [],
   "source": [
    "import spotipy\n",
    "from spotipy.oauth2 import SpotifyClientCredentials\n",
    "import pandas as pd\n",
    "import time \n",
    "\n",
    "\n",
    "client_id = '3d5be77a0a8b4b34a19fe1c509719169'\n",
    "client_secret = 'b5f6d556e9a74f48a88ec4e4a40bfc5e'\n",
    "\n",
    "client_credentials_manager = SpotifyClientCredentials(client_id, client_secret)\n",
    "sp = spotipy.Spotify(client_credentials_manager=client_credentials_manager)\n"
   ]
  },
  {
   "cell_type": "code",
   "execution_count": 2,
   "metadata": {},
   "outputs": [],
   "source": [
    "\n",
    "def getTrackIDs(user, playlist_id):\n",
    "    ids = []\n",
    "    playlist = sp.user_playlist(user, playlist_id)\n",
    "\n",
    "    for item in playlist['tracks']['items']:\n",
    "        track = item['track']\n",
    "        ids.append(track['id'])\n",
    "        \n",
    "    \n",
    "    return ids\n",
    "\n",
    "\n",
    "\n",
    "ids = getTrackIDs('ma music', '44ml9I9xyPyRzAy3gWhSAX')\n",
    "\n",
    "\n",
    "def getTrackFeatures(id):\n",
    "  meta = sp.track(id)\n",
    "  features = sp.audio_features(id)\n",
    "\n",
    "  # meta\n",
    "  name = meta['name']\n",
    "  album = meta['album']['name']\n",
    "  artist = meta['album']['artists'][0]['name']\n",
    "  length = meta['duration_ms']\n",
    "  popularity = meta['popularity']\n",
    " \n",
    "  # features\n",
    "  acousticness = features[0]['acousticness']\n",
    "  danceability = features[0]['danceability']\n",
    "  energy = features[0]['energy']\n",
    "  instrumentalness = features[0]['instrumentalness']\n",
    "  mode = features[0]['mode']\n",
    "  liveness = features[0]['liveness']\n",
    "  loudness = features[0]['loudness']\n",
    "  speechiness = features[0]['speechiness']\n",
    "  tempo = features[0]['tempo']\n",
    "  time_signature = features[0]['time_signature']\n",
    "  valence = features[0]['valence']\n",
    "\n",
    "  track = [name, album, artist, length, popularity, danceability, acousticness, energy, instrumentalness, mode, liveness, loudness, speechiness, tempo, time_signature, valence]\n",
    "  return track\n",
    "\n",
    "\n",
    "\n",
    "# loop over track ids \n",
    "tracks = []\n",
    "for i in range(len(ids)):\n",
    "  time.sleep(.5)\n",
    "  track = getTrackFeatures(ids[i])\n",
    "  tracks.append(track)\n",
    "\n",
    "# create dataset\n",
    "tracks_df = pd.DataFrame(tracks, columns = ['trackname', 'album', 'artist', 'length', 'popularity', 'danceability', 'acousticness', 'energy', 'instrumentalness', ' mode', 'liveness', 'loudness', 'speechiness', 'tempo', 'time_signature', 'valence'])"
   ]
  },
  {
   "cell_type": "code",
   "execution_count": 3,
   "metadata": {},
   "outputs": [
    {
     "name": "stdout",
     "output_type": "stream",
     "text": [
      "artist genres: ['francoton', 'french hip hop', 'french pop', 'pop urbaine']\n",
      "['francoton', 'french hip hop', 'french pop', 'pop urbaine']\n",
      "Dadju\n"
     ]
    }
   ],
   "source": [
    "dct = sp.playlist(\"44ml9I9xyPyRzAy3gWhSAX\", fields=None, market=None, additional_types=('track', ))\n",
    "result = sp.search(dct['tracks']['items'][0]['track']['artists'][0]['name'])\n",
    "track = result['tracks']['items'][0]\n",
    "\n",
    "artist = sp.artist(track[\"artists\"][0][\"external_urls\"][\"spotify\"])\n",
    "print(\"artist genres:\", artist[\"genres\"])\n",
    "\n",
    "genres = artist[\"genres\"]\n",
    "artist = artist['name']\n",
    "print(genres)\n",
    "print (artist)"
   ]
  },
  {
   "cell_type": "code",
   "execution_count": 4,
   "metadata": {},
   "outputs": [],
   "source": [
    "from tqdm import tqdm\n",
    "import pandas as pd"
   ]
  },
  {
   "cell_type": "code",
   "execution_count": 5,
   "metadata": {},
   "outputs": [
    {
     "name": "stderr",
     "output_type": "stream",
     "text": [
      "100%|██████████████████████████████████████████████████████████████████████████████████| 26/26 [00:03<00:00,  7.90it/s]\n"
     ]
    }
   ],
   "source": [
    "rows = []\n",
    "for t in tqdm(range(len(tracks_df))):\n",
    "    track_row = []\n",
    "    \n",
    "    track = dct['tracks']['items'][t]['track']['name']\n",
    "    artist = dct['tracks']['items'][t]['track']['artists'][0]['name']\n",
    "    \n",
    "    result = sp.search(dct['tracks']['items'][t]['track']['artists'][0]['name'])\n",
    "    tr = result['tracks']['items'][0]\n",
    "    art = sp.artist(tr[\"artists\"][0][\"external_urls\"][\"spotify\"])\n",
    "    \n",
    "    genre = art[\"genres\"]\n",
    "    try:\n",
    "        track_row = [artist, genre[0]]\n",
    "    except:\n",
    "        track_row = [artist]\n",
    "    rows.append(track_row)\n",
    "    \n",
    "    \n",
    "genre = pd.DataFrame.from_dict(rows)"
   ]
  },
  {
   "cell_type": "code",
   "execution_count": 6,
   "metadata": {},
   "outputs": [],
   "source": [
    "genre.columns = ['artist', 'genres']"
   ]
  },
  {
   "cell_type": "code",
   "execution_count": 7,
   "metadata": {},
   "outputs": [
    {
     "name": "stdout",
     "output_type": "stream",
     "text": [
      "<class 'pandas.core.frame.DataFrame'>\n",
      "RangeIndex: 26 entries, 0 to 25\n",
      "Data columns (total 2 columns):\n",
      " #   Column  Non-Null Count  Dtype \n",
      "---  ------  --------------  ----- \n",
      " 0   artist  26 non-null     object\n",
      " 1   genres  26 non-null     object\n",
      "dtypes: object(2)\n",
      "memory usage: 544.0+ bytes\n"
     ]
    }
   ],
   "source": [
    "genre.info()"
   ]
  },
  {
   "cell_type": "code",
   "execution_count": 8,
   "metadata": {},
   "outputs": [
    {
     "data": {
      "text/html": [
       "<div>\n",
       "<style scoped>\n",
       "    .dataframe tbody tr th:only-of-type {\n",
       "        vertical-align: middle;\n",
       "    }\n",
       "\n",
       "    .dataframe tbody tr th {\n",
       "        vertical-align: top;\n",
       "    }\n",
       "\n",
       "    .dataframe thead th {\n",
       "        text-align: right;\n",
       "    }\n",
       "</style>\n",
       "<table border=\"1\" class=\"dataframe\">\n",
       "  <thead>\n",
       "    <tr style=\"text-align: right;\">\n",
       "      <th></th>\n",
       "      <th>trackname</th>\n",
       "      <th>album</th>\n",
       "      <th>artist</th>\n",
       "      <th>length</th>\n",
       "      <th>popularity</th>\n",
       "      <th>danceability</th>\n",
       "      <th>acousticness</th>\n",
       "      <th>energy</th>\n",
       "      <th>instrumentalness</th>\n",
       "      <th>mode</th>\n",
       "      <th>liveness</th>\n",
       "      <th>loudness</th>\n",
       "      <th>speechiness</th>\n",
       "      <th>tempo</th>\n",
       "      <th>time_signature</th>\n",
       "      <th>valence</th>\n",
       "      <th>genres</th>\n",
       "    </tr>\n",
       "  </thead>\n",
       "  <tbody>\n",
       "    <tr>\n",
       "      <th>0</th>\n",
       "      <td>Sous contrôle</td>\n",
       "      <td>Gentleman 2.0</td>\n",
       "      <td>Dadju</td>\n",
       "      <td>182560</td>\n",
       "      <td>50</td>\n",
       "      <td>0.676</td>\n",
       "      <td>0.328</td>\n",
       "      <td>0.729</td>\n",
       "      <td>0.000000</td>\n",
       "      <td>0</td>\n",
       "      <td>0.1060</td>\n",
       "      <td>-6.172</td>\n",
       "      <td>0.2350</td>\n",
       "      <td>145.987</td>\n",
       "      <td>4</td>\n",
       "      <td>0.712</td>\n",
       "      <td>francoton</td>\n",
       "    </tr>\n",
       "    <tr>\n",
       "      <th>1</th>\n",
       "      <td>Dalida</td>\n",
       "      <td>Fruit du démon</td>\n",
       "      <td>Soolking</td>\n",
       "      <td>225373</td>\n",
       "      <td>47</td>\n",
       "      <td>0.753</td>\n",
       "      <td>0.660</td>\n",
       "      <td>0.728</td>\n",
       "      <td>0.000013</td>\n",
       "      <td>0</td>\n",
       "      <td>0.0889</td>\n",
       "      <td>-4.676</td>\n",
       "      <td>0.0449</td>\n",
       "      <td>140.129</td>\n",
       "      <td>4</td>\n",
       "      <td>0.405</td>\n",
       "      <td>francoton</td>\n",
       "    </tr>\n",
       "    <tr>\n",
       "      <th>2</th>\n",
       "      <td>Dalida</td>\n",
       "      <td>Fruit du démon</td>\n",
       "      <td>Soolking</td>\n",
       "      <td>225373</td>\n",
       "      <td>47</td>\n",
       "      <td>0.753</td>\n",
       "      <td>0.660</td>\n",
       "      <td>0.728</td>\n",
       "      <td>0.000013</td>\n",
       "      <td>0</td>\n",
       "      <td>0.0889</td>\n",
       "      <td>-4.676</td>\n",
       "      <td>0.0449</td>\n",
       "      <td>140.129</td>\n",
       "      <td>4</td>\n",
       "      <td>0.405</td>\n",
       "      <td>francoton</td>\n",
       "    </tr>\n",
       "    <tr>\n",
       "      <th>3</th>\n",
       "      <td>Dalida</td>\n",
       "      <td>Fruit du démon</td>\n",
       "      <td>Soolking</td>\n",
       "      <td>225373</td>\n",
       "      <td>47</td>\n",
       "      <td>0.753</td>\n",
       "      <td>0.660</td>\n",
       "      <td>0.728</td>\n",
       "      <td>0.000013</td>\n",
       "      <td>0</td>\n",
       "      <td>0.0889</td>\n",
       "      <td>-4.676</td>\n",
       "      <td>0.0449</td>\n",
       "      <td>140.129</td>\n",
       "      <td>4</td>\n",
       "      <td>0.405</td>\n",
       "      <td>francoton</td>\n",
       "    </tr>\n",
       "    <tr>\n",
       "      <th>4</th>\n",
       "      <td>Dalida</td>\n",
       "      <td>Fruit du démon</td>\n",
       "      <td>Soolking</td>\n",
       "      <td>225373</td>\n",
       "      <td>47</td>\n",
       "      <td>0.753</td>\n",
       "      <td>0.660</td>\n",
       "      <td>0.728</td>\n",
       "      <td>0.000013</td>\n",
       "      <td>0</td>\n",
       "      <td>0.0889</td>\n",
       "      <td>-4.676</td>\n",
       "      <td>0.0449</td>\n",
       "      <td>140.129</td>\n",
       "      <td>4</td>\n",
       "      <td>0.405</td>\n",
       "      <td>francoton</td>\n",
       "    </tr>\n",
       "  </tbody>\n",
       "</table>\n",
       "</div>"
      ],
      "text/plain": [
       "       trackname           album    artist  length  popularity  danceability  \\\n",
       "0  Sous contrôle   Gentleman 2.0     Dadju  182560          50         0.676   \n",
       "1         Dalida  Fruit du démon  Soolking  225373          47         0.753   \n",
       "2         Dalida  Fruit du démon  Soolking  225373          47         0.753   \n",
       "3         Dalida  Fruit du démon  Soolking  225373          47         0.753   \n",
       "4         Dalida  Fruit du démon  Soolking  225373          47         0.753   \n",
       "\n",
       "   acousticness  energy  instrumentalness   mode  liveness  loudness  \\\n",
       "0         0.328   0.729          0.000000      0    0.1060    -6.172   \n",
       "1         0.660   0.728          0.000013      0    0.0889    -4.676   \n",
       "2         0.660   0.728          0.000013      0    0.0889    -4.676   \n",
       "3         0.660   0.728          0.000013      0    0.0889    -4.676   \n",
       "4         0.660   0.728          0.000013      0    0.0889    -4.676   \n",
       "\n",
       "   speechiness    tempo  time_signature  valence     genres  \n",
       "0       0.2350  145.987               4    0.712  francoton  \n",
       "1       0.0449  140.129               4    0.405  francoton  \n",
       "2       0.0449  140.129               4    0.405  francoton  \n",
       "3       0.0449  140.129               4    0.405  francoton  \n",
       "4       0.0449  140.129               4    0.405  francoton  "
      ]
     },
     "execution_count": 8,
     "metadata": {},
     "output_type": "execute_result"
    }
   ],
   "source": [
    "df = pd.merge(tracks_df, genre,  on = 'artist') #\"artist\" is the common identifier\n",
    "df.head()"
   ]
  },
  {
   "cell_type": "code",
   "execution_count": 9,
   "metadata": {},
   "outputs": [
    {
     "data": {
      "text/plain": [
       "21"
      ]
     },
     "execution_count": 9,
     "metadata": {},
     "output_type": "execute_result"
    }
   ],
   "source": [
    "grouped = df.groupby(['trackname','artist'], as_index=True).size()\n",
    "grouped[grouped > 1].count()"
   ]
  },
  {
   "cell_type": "code",
   "execution_count": 10,
   "metadata": {},
   "outputs": [],
   "source": [
    "df.drop_duplicates(subset=['trackname','artist'], inplace=True)"
   ]
  },
  {
   "cell_type": "code",
   "execution_count": 11,
   "metadata": {},
   "outputs": [
    {
     "name": "stdout",
     "output_type": "stream",
     "text": [
      "<class 'pandas.core.frame.DataFrame'>\n",
      "Int64Index: 26 entries, 0 to 229\n",
      "Data columns (total 17 columns):\n",
      " #   Column            Non-Null Count  Dtype  \n",
      "---  ------            --------------  -----  \n",
      " 0   trackname         26 non-null     object \n",
      " 1   album             26 non-null     object \n",
      " 2   artist            26 non-null     object \n",
      " 3   length            26 non-null     int64  \n",
      " 4   popularity        26 non-null     int64  \n",
      " 5   danceability      26 non-null     float64\n",
      " 6   acousticness      26 non-null     float64\n",
      " 7   energy            26 non-null     float64\n",
      " 8   instrumentalness  26 non-null     float64\n",
      " 9    mode             26 non-null     int64  \n",
      " 10  liveness          26 non-null     float64\n",
      " 11  loudness          26 non-null     float64\n",
      " 12  speechiness       26 non-null     float64\n",
      " 13  tempo             26 non-null     float64\n",
      " 14  time_signature    26 non-null     int64  \n",
      " 15  valence           26 non-null     float64\n",
      " 16  genres            26 non-null     object \n",
      "dtypes: float64(9), int64(4), object(4)\n",
      "memory usage: 3.7+ KB\n"
     ]
    }
   ],
   "source": [
    "df.info()"
   ]
  },
  {
   "cell_type": "code",
   "execution_count": 12,
   "metadata": {},
   "outputs": [],
   "source": [
    "df.to_csv(\"playlist2.csv\", sep = ',')"
   ]
  },
  {
   "cell_type": "code",
   "execution_count": null,
   "metadata": {},
   "outputs": [],
   "source": []
  }
 ],
 "metadata": {
  "kernelspec": {
   "display_name": "Python 3",
   "language": "python",
   "name": "python3"
  },
  "language_info": {
   "codemirror_mode": {
    "name": "ipython",
    "version": 3
   },
   "file_extension": ".py",
   "mimetype": "text/x-python",
   "name": "python",
   "nbconvert_exporter": "python",
   "pygments_lexer": "ipython3",
   "version": "3.8.5"
  }
 },
 "nbformat": 4,
 "nbformat_minor": 4
}
